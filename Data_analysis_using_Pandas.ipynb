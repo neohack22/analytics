{
  "nbformat": 4,
  "nbformat_minor": 0,
  "metadata": {
    "colab": {
      "provenance": [],
      "include_colab_link": true
    },
    "kernelspec": {
      "name": "python3",
      "display_name": "Python 3"
    }
  },
  "cells": [
    {
      "cell_type": "markdown",
      "metadata": {
        "id": "view-in-github",
        "colab_type": "text"
      },
      "source": [
        "<a href=\"https://colab.research.google.com/github/neohack22/analytics/blob/main/Data_analysis_using_Pandas.ipynb\" target=\"_parent\"><img src=\"https://colab.research.google.com/assets/colab-badge.svg\" alt=\"Open In Colab\"/></a>"
      ]
    },
    {
      "cell_type": "markdown",
      "source": [
        "This code performs various data analysis and visualization tasks using Pandas, helping you explore and understand the data in the 'db.csv' file."
      ],
      "metadata": {
        "id": "uG_RW2GGOzKn"
      }
    },
    {
      "cell_type": "markdown",
      "source": [
        "## Import the Pandas library and read a CSV file named 'db.csv' into a DataFrame named 'df':"
      ],
      "metadata": {
        "id": "tqcoyxsmPv1I"
      }
    },
    {
      "metadata": {
        "id": "DT8GQSw1Df8G"
      },
      "cell_type": "code",
      "source": [
        "1. import pandas as pd  # Import the Pandas library\n",
        "2. df = pd.read_csv('db.csv', ',')  # Read a CSV file into a Pandas DataFrame"
      ],
      "execution_count": null,
      "outputs": []
    },
    {
      "cell_type": "markdown",
      "source": [
        "The second argument ',' specifies that the data in the CSV file is separated by commas."
      ],
      "metadata": {
        "id": "zFCsImwnPpqw"
      }
    },
    {
      "cell_type": "markdown",
      "source": [
        "# Return the shape of the DataFrame 'df', which shows the number of rows and columns in the DataFrame:"
      ],
      "metadata": {
        "id": "TbWepy8QQIdI"
      }
    },
    {
      "metadata": {
        "id": "lJPNkdGNG3na",
        "colab": {
          "base_uri": "https://localhost:8080/",
          "height": 34
        },
        "outputId": "c41475d4-a452-4552-fdf6-437c0a5f4ee4"
      },
      "cell_type": "code",
      "source": [
        "df.shape"
      ],
      "execution_count": null,
      "outputs": [
        {
          "output_type": "execute_result",
          "data": {
            "text/plain": [
              "(536, 8)"
            ]
          },
          "metadata": {
            "tags": []
          },
          "execution_count": 3
        }
      ]
    },
    {
      "cell_type": "markdown",
      "source": [
        "# Return the column names (header) of the DataFrame 'df':"
      ],
      "metadata": {
        "id": "x9PHqRWaQSCQ"
      }
    },
    {
      "metadata": {
        "id": "UDRh1y0qG7HH",
        "colab": {
          "base_uri": "https://localhost:8080/",
          "height": 68
        },
        "outputId": "eeb1fdd4-f755-4b7e-e717-34573132a73a"
      },
      "cell_type": "code",
      "source": [
        "df.columns"
      ],
      "execution_count": null,
      "outputs": [
        {
          "output_type": "execute_result",
          "data": {
            "text/plain": [
              "Index(['Category', 'Occupation', 'All_workers', 'All_weekly', 'M_workers',\n",
              "       'M_weekly', 'F_workers', 'F_weekly'],\n",
              "      dtype='object')"
            ]
          },
          "metadata": {
            "tags": []
          },
          "execution_count": 4
        }
      ]
    },
    {
      "cell_type": "markdown",
      "source": [
        "# Retrieve the 'Category' column from the DataFrame, counts the number of occurrences of each unique value, and plots a horizontal bar chart to visualize the distribution of categories:\n"
      ],
      "metadata": {
        "id": "u_JaAYaXQuoJ"
      }
    },
    {
      "metadata": {
        "id": "7Gpp1A2wIDW5",
        "colab": {
          "base_uri": "https://localhost:8080/",
          "height": 364
        },
        "outputId": "edccf83a-896b-4b78-ec4a-1df5957b297c"
      },
      "cell_type": "code",
      "source": [
        "1. df.Category.value_counts().plot.barh()"
      ],
      "execution_count": null,
      "outputs": [
        {
          "output_type": "execute_result",
          "data": {
            "text/plain": [
              "<matplotlib.axes._subplots.AxesSubplot at 0x7ffb22ab24e0>"
            ]
          },
          "metadata": {
            "tags": []
          },
          "execution_count": 11
        },
        {
          "output_type": "display_data",
          "data": {
            "image/png": "[encoded data removed]",
            "text/plain": [
              "<Figure size 576x396 with 1 Axes>"
            ]
          },
          "metadata": {
            "tags": []
          }
        }
      ]
    },
    {
      "cell_type": "markdown",
      "source": [
        "# Generate summary statistics for the numeric columns in the DataFrame 'df', such as count, mean, standard deviation, minimum, and maximum values:"
      ],
      "metadata": {
        "id": "OLXQAEEIRraj"
      }
    },
    {
      "metadata": {
        "id": "LJlOlICqJciw",
        "colab": {
          "base_uri": "https://localhost:8080/",
          "height": 297
        },
        "outputId": "55877f99-3d99-421e-aca4-edeee02e5abf"
      },
      "cell_type": "code",
      "source": [
        "1. df.describe()"
      ],
      "execution_count": null,
      "outputs": [
        {
          "output_type": "execute_result",
          "data": {
            "text/html": [
              "<div>\n",
              "<style scoped>\n",
              "    .dataframe tbody tr th:only-of-type {\n",
              "        vertical-align: middle;\n",
              "    }\n",
              "\n",
              "    .dataframe tbody tr th {\n",
              "        vertical-align: top;\n",
              "    }\n",
              "\n",
              "    .dataframe thead th {\n",
              "        text-align: right;\n",
              "    }\n",
              "</style>\n",
              "<table border=\"1\" class=\"dataframe\">\n",
              "  <thead>\n",
              "    <tr style=\"text-align: right;\">\n",
              "      <th></th>\n",
              "      <th>All_workers</th>\n",
              "      <th>M_workers</th>\n",
              "      <th>F_workers</th>\n",
              "    </tr>\n",
              "  </thead>\n",
              "  <tbody>\n",
              "    <tr>\n",
              "      <th>count</th>\n",
              "      <td>536.000000</td>\n",
              "      <td>536.000000</td>\n",
              "      <td>536.000000</td>\n",
              "    </tr>\n",
              "    <tr>\n",
              "      <th>mean</th>\n",
              "      <td>206.024254</td>\n",
              "      <td>114.498134</td>\n",
              "      <td>91.490672</td>\n",
              "    </tr>\n",
              "    <tr>\n",
              "      <th>std</th>\n",
              "      <td>382.499064</td>\n",
              "      <td>229.333704</td>\n",
              "      <td>228.794729</td>\n",
              "    </tr>\n",
              "    <tr>\n",
              "      <th>min</th>\n",
              "      <td>0.000000</td>\n",
              "      <td>0.000000</td>\n",
              "      <td>0.000000</td>\n",
              "    </tr>\n",
              "    <tr>\n",
              "      <th>25%</th>\n",
              "      <td>20.000000</td>\n",
              "      <td>11.000000</td>\n",
              "      <td>2.750000</td>\n",
              "    </tr>\n",
              "    <tr>\n",
              "      <th>50%</th>\n",
              "      <td>63.000000</td>\n",
              "      <td>32.000000</td>\n",
              "      <td>16.000000</td>\n",
              "    </tr>\n",
              "    <tr>\n",
              "      <th>75%</th>\n",
              "      <td>191.500000</td>\n",
              "      <td>101.750000</td>\n",
              "      <td>69.000000</td>\n",
              "    </tr>\n",
              "    <tr>\n",
              "      <th>max</th>\n",
              "      <td>2806.000000</td>\n",
              "      <td>2582.000000</td>\n",
              "      <td>2262.000000</td>\n",
              "    </tr>\n",
              "  </tbody>\n",
              "</table>\n",
              "</div>"
            ],
            "text/plain": [
              "       All_workers    M_workers    F_workers\n",
              "count   536.000000   536.000000   536.000000\n",
              "mean    206.024254   114.498134    91.490672\n",
              "std     382.499064   229.333704   228.794729\n",
              "min       0.000000     0.000000     0.000000\n",
              "25%      20.000000    11.000000     2.750000\n",
              "50%      63.000000    32.000000    16.000000\n",
              "75%     191.500000   101.750000    69.000000\n",
              "max    2806.000000  2582.000000  2262.000000"
            ]
          },
          "metadata": {
            "tags": []
          },
          "execution_count": 12
        }
      ]
    },
    {
      "cell_type": "markdown",
      "source": [
        "# Convert the 'All_weekly,' 'M_weekly,' and 'F_weekly' columns to numeric values, using 'coerce' to replace any non-numeric values with NaN:"
      ],
      "metadata": {
        "id": "0T48V8GnSo0l"
      }
    },
    {
      "metadata": {
        "id": "kSr9D7lYKfBD",
        "colab": {
          "base_uri": "https://localhost:8080/",
          "height": 297
        },
        "outputId": "5902108a-9bdc-4b8b-ed82-50afa5c8a523"
      },
      "cell_type": "code",
      "source": [
        "df.All_weekly = pd.to_numeric(df.All_weekly, errors='coerce')\n",
        "df.M_weekly = pd.to_numeric(df.M_weekly, errors='coerce')\n",
        "df.F_weekly = pd.to_numeric(df.F_weekly, errors='coerce')"
      ],
      "execution_count": null,
      "outputs": [
        {
          "output_type": "execute_result",
          "data": {
            "text/html": [
              "<div>\n",
              "<style scoped>\n",
              "    .dataframe tbody tr th:only-of-type {\n",
              "        vertical-align: middle;\n",
              "    }\n",
              "\n",
              "    .dataframe tbody tr th {\n",
              "        vertical-align: top;\n",
              "    }\n",
              "\n",
              "    .dataframe thead th {\n",
              "        text-align: right;\n",
              "    }\n",
              "</style>\n",
              "<table border=\"1\" class=\"dataframe\">\n",
              "  <thead>\n",
              "    <tr style=\"text-align: right;\">\n",
              "      <th></th>\n",
              "      <th>All_workers</th>\n",
              "      <th>All_weekly</th>\n",
              "      <th>M_workers</th>\n",
              "      <th>M_weekly</th>\n",
              "      <th>F_workers</th>\n",
              "      <th>F_weekly</th>\n",
              "    </tr>\n",
              "  </thead>\n",
              "  <tbody>\n",
              "    <tr>\n",
              "      <th>count</th>\n",
              "      <td>536.000000</td>\n",
              "      <td>300.000000</td>\n",
              "      <td>536.000000</td>\n",
              "      <td>210.000000</td>\n",
              "      <td>536.000000</td>\n",
              "      <td>170.000000</td>\n",
              "    </tr>\n",
              "    <tr>\n",
              "      <th>mean</th>\n",
              "      <td>206.024254</td>\n",
              "      <td>914.476667</td>\n",
              "      <td>114.498134</td>\n",
              "      <td>1009.671429</td>\n",
              "      <td>91.490672</td>\n",
              "      <td>811.341176</td>\n",
              "    </tr>\n",
              "    <tr>\n",
              "      <th>std</th>\n",
              "      <td>382.499064</td>\n",
              "      <td>356.184654</td>\n",
              "      <td>229.333704</td>\n",
              "      <td>403.694756</td>\n",
              "      <td>228.794729</td>\n",
              "      <td>309.561746</td>\n",
              "    </tr>\n",
              "    <tr>\n",
              "      <th>min</th>\n",
              "      <td>0.000000</td>\n",
              "      <td>354.000000</td>\n",
              "      <td>0.000000</td>\n",
              "      <td>389.000000</td>\n",
              "      <td>0.000000</td>\n",
              "      <td>380.000000</td>\n",
              "    </tr>\n",
              "    <tr>\n",
              "      <th>25%</th>\n",
              "      <td>20.000000</td>\n",
              "      <td>624.000000</td>\n",
              "      <td>11.000000</td>\n",
              "      <td>678.250000</td>\n",
              "      <td>2.750000</td>\n",
              "      <td>549.500000</td>\n",
              "    </tr>\n",
              "    <tr>\n",
              "      <th>50%</th>\n",
              "      <td>63.000000</td>\n",
              "      <td>860.500000</td>\n",
              "      <td>32.000000</td>\n",
              "      <td>926.000000</td>\n",
              "      <td>16.000000</td>\n",
              "      <td>740.000000</td>\n",
              "    </tr>\n",
              "    <tr>\n",
              "      <th>75%</th>\n",
              "      <td>191.500000</td>\n",
              "      <td>1129.000000</td>\n",
              "      <td>101.750000</td>\n",
              "      <td>1264.750000</td>\n",
              "      <td>69.000000</td>\n",
              "      <td>987.500000</td>\n",
              "    </tr>\n",
              "    <tr>\n",
              "      <th>max</th>\n",
              "      <td>2806.000000</td>\n",
              "      <td>2041.000000</td>\n",
              "      <td>2582.000000</td>\n",
              "      <td>2251.000000</td>\n",
              "      <td>2262.000000</td>\n",
              "      <td>1836.000000</td>\n",
              "    </tr>\n",
              "  </tbody>\n",
              "</table>\n",
              "</div>"
            ],
            "text/plain": [
              "       All_workers   All_weekly    M_workers     M_weekly    F_workers  \\\n",
              "count   536.000000   300.000000   536.000000   210.000000   536.000000   \n",
              "mean    206.024254   914.476667   114.498134  1009.671429    91.490672   \n",
              "std     382.499064   356.184654   229.333704   403.694756   228.794729   \n",
              "min       0.000000   354.000000     0.000000   389.000000     0.000000   \n",
              "25%      20.000000   624.000000    11.000000   678.250000     2.750000   \n",
              "50%      63.000000   860.500000    32.000000   926.000000    16.000000   \n",
              "75%     191.500000  1129.000000   101.750000  1264.750000    69.000000   \n",
              "max    2806.000000  2041.000000  2582.000000  2251.000000  2262.000000   \n",
              "\n",
              "          F_weekly  \n",
              "count   170.000000  \n",
              "mean    811.341176  \n",
              "std     309.561746  \n",
              "min     380.000000  \n",
              "25%     549.500000  \n",
              "50%     740.000000  \n",
              "75%     987.500000  \n",
              "max    1836.000000  "
            ]
          },
          "metadata": {
            "tags": []
          },
          "execution_count": 14
        }
      ]
    },
    {
      "metadata": {
        "id": "oCp-ox7yLq3a",
        "colab": {
          "base_uri": "https://localhost:8080/",
          "height": 34
        },
        "outputId": "4850fa43-7146-4aad-a545-a70798b00558"
      },
      "cell_type": "code",
      "source": [
        "df1 = df.dropna()  # Create a new DataFrame 'df1' by removing rows with NaN values\n",
        "df1.shape"
      ],
      "execution_count": null,
      "outputs": [
        {
          "output_type": "execute_result",
          "data": {
            "text/plain": [
              "(120, 8)"
            ]
          },
          "metadata": {
            "tags": []
          },
          "execution_count": 16
        }
      ]
    },
    {
      "cell_type": "markdown",
      "source": [
        "# Create a new DataFrame 'df1' by removing rows with missing values (NaN), and then display the shape of the cleaned DataFrame:"
      ],
      "metadata": {
        "id": "FStSPqQoWlkB"
      }
    },
    {
      "metadata": {
        "id": "qMF25AHdNN0j",
        "colab": {
          "base_uri": "https://localhost:8080/",
          "height": 599
        },
        "outputId": "00637ee9-9470-4b58-e9c7-c4c75c8b470e"
      },
      "cell_type": "code",
      "source": [
        "df1 = df1.sort_values(by=['F_weekly'], ascending=False)[:15]"
      ],
      "execution_count": null,
      "outputs": [
        {
          "output_type": "execute_result",
          "data": {
            "text/html": [
              "<div>\n",
              "<style scoped>\n",
              "    .dataframe tbody tr th:only-of-type {\n",
              "        vertical-align: middle;\n",
              "    }\n",
              "\n",
              "    .dataframe tbody tr th {\n",
              "        vertical-align: top;\n",
              "    }\n",
              "\n",
              "    .dataframe thead th {\n",
              "        text-align: right;\n",
              "    }\n",
              "</style>\n",
              "<table border=\"1\" class=\"dataframe\">\n",
              "  <thead>\n",
              "    <tr style=\"text-align: right;\">\n",
              "      <th></th>\n",
              "      <th>Category</th>\n",
              "      <th>Occupation</th>\n",
              "      <th>All_workers</th>\n",
              "      <th>All_weekly</th>\n",
              "      <th>M_workers</th>\n",
              "      <th>M_weekly</th>\n",
              "      <th>F_workers</th>\n",
              "      <th>F_weekly</th>\n",
              "    </tr>\n",
              "  </thead>\n",
              "  <tbody>\n",
              "    <tr>\n",
              "      <th>0</th>\n",
              "      <td>MANAGEMENT</td>\n",
              "      <td>Chief executives</td>\n",
              "      <td>1046</td>\n",
              "      <td>2041.0</td>\n",
              "      <td>763</td>\n",
              "      <td>2251.0</td>\n",
              "      <td>283</td>\n",
              "      <td>1836.0</td>\n",
              "    </tr>\n",
              "    <tr>\n",
              "      <th>166</th>\n",
              "      <td>HEALTHCARE PROFESSIONAL</td>\n",
              "      <td>Pharmacists</td>\n",
              "      <td>206</td>\n",
              "      <td>1920.0</td>\n",
              "      <td>98</td>\n",
              "      <td>2117.0</td>\n",
              "      <td>108</td>\n",
              "      <td>1811.0</td>\n",
              "    </tr>\n",
              "    <tr>\n",
              "      <th>127</th>\n",
              "      <td>SOCIAL SERVICE</td>\n",
              "      <td>Lawyers</td>\n",
              "      <td>803</td>\n",
              "      <td>1886.0</td>\n",
              "      <td>503</td>\n",
              "      <td>1914.0</td>\n",
              "      <td>300</td>\n",
              "      <td>1717.0</td>\n",
              "    </tr>\n",
              "    <tr>\n",
              "      <th>7</th>\n",
              "      <td>MANAGEMENT</td>\n",
              "      <td>Computer and information systems managers</td>\n",
              "      <td>636</td>\n",
              "      <td>1728.0</td>\n",
              "      <td>466</td>\n",
              "      <td>1817.0</td>\n",
              "      <td>169</td>\n",
              "      <td>1563.0</td>\n",
              "    </tr>\n",
              "    <tr>\n",
              "      <th>167</th>\n",
              "      <td>HEALTHCARE PROFESSIONAL</td>\n",
              "      <td>Physicians and surgeons</td>\n",
              "      <td>740</td>\n",
              "      <td>1824.0</td>\n",
              "      <td>457</td>\n",
              "      <td>1915.0</td>\n",
              "      <td>283</td>\n",
              "      <td>1533.0</td>\n",
              "    </tr>\n",
              "    <tr>\n",
              "      <th>91</th>\n",
              "      <td>ENGINEERING</td>\n",
              "      <td>Engineers, all other</td>\n",
              "      <td>393</td>\n",
              "      <td>1527.0</td>\n",
              "      <td>339</td>\n",
              "      <td>1537.0</td>\n",
              "      <td>54</td>\n",
              "      <td>1448.0</td>\n",
              "    </tr>\n",
              "    <tr>\n",
              "      <th>62</th>\n",
              "      <td>COMPUTATIONAL</td>\n",
              "      <td>Software developers, applications and systems ...</td>\n",
              "      <td>1287</td>\n",
              "      <td>1682.0</td>\n",
              "      <td>1054</td>\n",
              "      <td>1751.0</td>\n",
              "      <td>232</td>\n",
              "      <td>1415.0</td>\n",
              "    </tr>\n",
              "    <tr>\n",
              "      <th>41</th>\n",
              "      <td>BUSINESS</td>\n",
              "      <td>Management analysts</td>\n",
              "      <td>529</td>\n",
              "      <td>1431.0</td>\n",
              "      <td>291</td>\n",
              "      <td>1519.0</td>\n",
              "      <td>237</td>\n",
              "      <td>1348.0</td>\n",
              "    </tr>\n",
              "    <tr>\n",
              "      <th>71</th>\n",
              "      <td>COMPUTATIONAL</td>\n",
              "      <td>Operations research analysts</td>\n",
              "      <td>122</td>\n",
              "      <td>1441.0</td>\n",
              "      <td>59</td>\n",
              "      <td>1574.0</td>\n",
              "      <td>63</td>\n",
              "      <td>1325.0</td>\n",
              "    </tr>\n",
              "    <tr>\n",
              "      <th>61</th>\n",
              "      <td>COMPUTATIONAL</td>\n",
              "      <td>Computer programmers</td>\n",
              "      <td>450</td>\n",
              "      <td>1438.0</td>\n",
              "      <td>357</td>\n",
              "      <td>1501.0</td>\n",
              "      <td>93</td>\n",
              "      <td>1302.0</td>\n",
              "    </tr>\n",
              "    <tr>\n",
              "      <th>10</th>\n",
              "      <td>MANAGEMENT</td>\n",
              "      <td>Human resources managers</td>\n",
              "      <td>254</td>\n",
              "      <td>1365.0</td>\n",
              "      <td>68</td>\n",
              "      <td>1495.0</td>\n",
              "      <td>186</td>\n",
              "      <td>1274.0</td>\n",
              "    </tr>\n",
              "    <tr>\n",
              "      <th>4</th>\n",
              "      <td>MANAGEMENT</td>\n",
              "      <td>Marketing and sales managers</td>\n",
              "      <td>948</td>\n",
              "      <td>1462.0</td>\n",
              "      <td>570</td>\n",
              "      <td>1603.0</td>\n",
              "      <td>378</td>\n",
              "      <td>1258.0</td>\n",
              "    </tr>\n",
              "    <tr>\n",
              "      <th>59</th>\n",
              "      <td>COMPUTATIONAL</td>\n",
              "      <td>Computer systems analysts</td>\n",
              "      <td>499</td>\n",
              "      <td>1389.0</td>\n",
              "      <td>325</td>\n",
              "      <td>1462.0</td>\n",
              "      <td>173</td>\n",
              "      <td>1256.0</td>\n",
              "    </tr>\n",
              "    <tr>\n",
              "      <th>17</th>\n",
              "      <td>MANAGEMENT</td>\n",
              "      <td>Education administrators</td>\n",
              "      <td>778</td>\n",
              "      <td>1423.0</td>\n",
              "      <td>282</td>\n",
              "      <td>1585.0</td>\n",
              "      <td>496</td>\n",
              "      <td>1252.0</td>\n",
              "    </tr>\n",
              "    <tr>\n",
              "      <th>44</th>\n",
              "      <td>BUSINESS</td>\n",
              "      <td>Market research analysts and marketing special...</td>\n",
              "      <td>203</td>\n",
              "      <td>1284.0</td>\n",
              "      <td>85</td>\n",
              "      <td>1411.0</td>\n",
              "      <td>118</td>\n",
              "      <td>1239.0</td>\n",
              "    </tr>\n",
              "  </tbody>\n",
              "</table>\n",
              "</div>"
            ],
            "text/plain": [
              "                    Category  \\\n",
              "0                 MANAGEMENT   \n",
              "166  HEALTHCARE PROFESSIONAL   \n",
              "127           SOCIAL SERVICE   \n",
              "7                 MANAGEMENT   \n",
              "167  HEALTHCARE PROFESSIONAL   \n",
              "91               ENGINEERING   \n",
              "62             COMPUTATIONAL   \n",
              "41                  BUSINESS   \n",
              "71             COMPUTATIONAL   \n",
              "61             COMPUTATIONAL   \n",
              "10                MANAGEMENT   \n",
              "4                 MANAGEMENT   \n",
              "59             COMPUTATIONAL   \n",
              "17                MANAGEMENT   \n",
              "44                  BUSINESS   \n",
              "\n",
              "                                            Occupation  All_workers  \\\n",
              "0                                     Chief executives         1046   \n",
              "166                                        Pharmacists          206   \n",
              "127                                            Lawyers          803   \n",
              "7            Computer and information systems managers          636   \n",
              "167                            Physicians and surgeons          740   \n",
              "91                                Engineers, all other          393   \n",
              "62   Software developers, applications and systems ...         1287   \n",
              "41                                 Management analysts          529   \n",
              "71                        Operations research analysts          122   \n",
              "61                                Computer programmers          450   \n",
              "10                            Human resources managers          254   \n",
              "4                         Marketing and sales managers          948   \n",
              "59                           Computer systems analysts          499   \n",
              "17                            Education administrators          778   \n",
              "44   Market research analysts and marketing special...          203   \n",
              "\n",
              "     All_weekly  M_workers  M_weekly  F_workers  F_weekly  \n",
              "0        2041.0        763    2251.0        283    1836.0  \n",
              "166      1920.0         98    2117.0        108    1811.0  \n",
              "127      1886.0        503    1914.0        300    1717.0  \n",
              "7        1728.0        466    1817.0        169    1563.0  \n",
              "167      1824.0        457    1915.0        283    1533.0  \n",
              "91       1527.0        339    1537.0         54    1448.0  \n",
              "62       1682.0       1054    1751.0        232    1415.0  \n",
              "41       1431.0        291    1519.0        237    1348.0  \n",
              "71       1441.0         59    1574.0         63    1325.0  \n",
              "61       1438.0        357    1501.0         93    1302.0  \n",
              "10       1365.0         68    1495.0        186    1274.0  \n",
              "4        1462.0        570    1603.0        378    1258.0  \n",
              "59       1389.0        325    1462.0        173    1256.0  \n",
              "17       1423.0        282    1585.0        496    1252.0  \n",
              "44       1284.0         85    1411.0        118    1239.0  "
            ]
          },
          "metadata": {
            "tags": []
          },
          "execution_count": 18
        }
      ]
    },
    {
      "cell_type": "markdown",
      "source": [
        "# Plot a horizontal bar chart for the 'F_weekly' and 'M_weekly' columns in the DataFrame 'df1':"
      ],
      "metadata": {
        "id": "j7Ul9oclXL46"
      }
    },
    {
      "metadata": {
        "id": "g4qqoE0-Ox9O",
        "colab": {
          "base_uri": "https://localhost:8080/",
          "height": 364
        },
        "outputId": "c51015db-7064-44af-d122-ba28bb53480c"
      },
      "cell_type": "code",
      "source": [
        "df1[[\"F_weekly\", \"M_weekly\"]].plot(kind=\"barh\")"
      ],
      "execution_count": null,
      "outputs": [
        {
          "output_type": "execute_result",
          "data": {
            "text/plain": [
              "<matplotlib.axes._subplots.AxesSubplot at 0x7ffb267cd9b0>"
            ]
          },
          "metadata": {
            "tags": []
          },
          "execution_count": 19
        },
        {
          "output_type": "display_data",
          "data": {
            "image/png": "[encoded data removed]",
            "text/plain": [
              "<Figure size 576x396 with 1 Axes>"
            ]
          },
          "metadata": {
            "tags": []
          }
        }
      ]
    },
    {
      "cell_type": "markdown",
      "source": [
        "# Set the 'Occupation' column as the index of 'df1' and then plots a horizontal bar chart for the 'F_weekly' and 'M_weekly' columns:"
      ],
      "metadata": {
        "id": "CieAKmsKXzAL"
      }
    },
    {
      "metadata": {
        "id": "JEISV5nKQG_4",
        "colab": {
          "base_uri": "https://localhost:8080/",
          "height": 364
        },
        "outputId": "9c32e10b-ed9e-4cdb-e415-a00c5ef73936"
      },
      "cell_type": "code",
      "source": [
        "df1=df1.set_index('Occupation')\n",
        "df1[[\"F_weekly\",\"M_weekly\"]].plot(kind=\"barh\")"
      ],
      "execution_count": null,
      "outputs": [
        {
          "output_type": "execute_result",
          "data": {
            "text/plain": [
              "<matplotlib.axes._subplots.AxesSubplot at 0x7ffb224b8dd8>"
            ]
          },
          "metadata": {
            "tags": []
          },
          "execution_count": 26
        },
        {
          "output_type": "display_data",
          "data": {
            "image/png": "[encoded data removed]",
            "text/plain": [
              "<Figure size 576x396 with 1 Axes>"
            ]
          },
          "metadata": {
            "tags": []
          }
        }
      ]
    },
    {
      "cell_type": "markdown",
      "source": [
        "# Calculate the 'Delta' column by computing the percentage difference between 'M_weekly' and 'F_weekly.' It then displays the column names of 'df1':"
      ],
      "metadata": {
        "id": "JAwkQcSyYNmU"
      }
    },
    {
      "metadata": {
        "id": "9pLFmCOrRneL",
        "colab": {
          "base_uri": "https://localhost:8080/",
          "height": 68
        },
        "outputId": "a471bf8a-f25a-4057-ab3e-809ef8838100"
      },
      "cell_type": "code",
      "source": [
        "df1['Delta']=(df1.M_weekly/df1.F_weekly-1)*100\n",
        "df1.columns"
      ],
      "execution_count": null,
      "outputs": [
        {
          "output_type": "execute_result",
          "data": {
            "text/plain": [
              "Index(['Category', 'All_workers', 'All_weekly', 'M_workers', 'M_weekly',\n",
              "       'F_workers', 'F_weekly', 'Delta'],\n",
              "      dtype='object')"
            ]
          },
          "metadata": {
            "tags": []
          },
          "execution_count": 29
        }
      ]
    },
    {
      "cell_type": "markdown",
      "source": [
        "## Sort 'df1' based on the 'Delta' column in ascending order and selects the top 15 rows. Finally, it plots a horizontal bar chart for the 'Delta' column:"
      ],
      "metadata": {
        "id": "40vXIMS0ZVov"
      }
    },
    {
      "metadata": {
        "id": "kTl2PzwDSpAU",
        "colab": {
          "base_uri": "https://localhost:8080/",
          "height": 364
        },
        "outputId": "2586639f-5095-4244-c779-ed32265d629a"
      },
      "cell_type": "code",
      "source": [
        "df1=df1.sort_values(by=['Delta'],ascending=True)[:15]\n",
        "df1.plot.barh(y='Delta')"
      ],
      "execution_count": null,
      "outputs": [
        {
          "output_type": "execute_result",
          "data": {
            "text/plain": [
              "<matplotlib.axes._subplots.AxesSubplot at 0x7ffb224cd710>"
            ]
          },
          "metadata": {
            "tags": []
          },
          "execution_count": 31
        },
        {
          "output_type": "display_data",
          "data": {
            "image/png": "[encoded data removed]",
            "text/plain": [
              "<Figure size 576x396 with 1 Axes>"
            ]
          },
          "metadata": {
            "tags": []
          }
        }
      ]
    }
  ]
}